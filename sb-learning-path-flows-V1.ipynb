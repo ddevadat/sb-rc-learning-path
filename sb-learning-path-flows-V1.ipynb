{
 "cells": [
  {
   "cell_type": "code",
   "execution_count": 88,
   "id": "dc3d2384",
   "metadata": {
    "pycharm": {
     "name": "#%%\n"
    }
   },
   "outputs": [],
   "source": [
    "import requests\n",
    "import random\n",
    "import json\n",
    "import base64\n",
    "from IPython.display import display, SVG"
   ]
  },
  {
   "cell_type": "code",
   "execution_count": 89,
   "id": "f3912238",
   "metadata": {
    "pycharm": {
     "name": "#%%\n"
    }
   },
   "outputs": [],
   "source": [
    "baseUrl = \"http://demo-admin-portal.sunbirdrc.oci/registry\"\n",
    "apibaseUrl = \"http://demo-admin-portal.sunbirdrc.oci/registry/api/v1/\"\n",
    "keycloakUrl = \"http://demo-admin-portal.sunbirdrc.oci\"\n",
    "keycloak_url = \"http://demo-admin-portal.sunbirdrc.oci\""
   ]
  },
  {
   "attachments": {},
   "cell_type": "markdown",
   "id": "bfb635b0",
   "metadata": {},
   "source": [
    "#### Registry Health Check"
   ]
  },
  {
   "cell_type": "code",
   "execution_count": 92,
   "id": "f75bef51",
   "metadata": {},
   "outputs": [
    {
     "name": "stdout",
     "output_type": "stream",
     "text": [
      "{\n",
      "    \"id\": \"sunbird-rc.registry.health\",\n",
      "    \"ver\": \"1.0\",\n",
      "    \"ets\": 1690245585966,\n",
      "    \"params\": {\n",
      "        \"resmsgid\": \"\",\n",
      "        \"msgid\": \"a1b83bb2-8684-4b82-a682-95d25d22ab50\",\n",
      "        \"err\": \"\",\n",
      "        \"status\": \"SUCCESSFUL\",\n",
      "        \"errmsg\": \"\"\n",
      "    },\n",
      "    \"responseCode\": \"OK\",\n",
      "    \"result\": {\n",
      "        \"name\": \"sunbirdrc-registry-api\",\n",
      "        \"healthy\": true,\n",
      "        \"checks\": [\n",
      "            {\n",
      "                \"name\": \"sunbird.notification.service\",\n",
      "                \"healthy\": true,\n",
      "                \"err\": \"NOTIFICATION_ENABLED\",\n",
      "                \"errmsg\": \"false\"\n",
      "            },\n",
      "            {\n",
      "                \"name\": \"sunbird.certificate-api.service\",\n",
      "                \"healthy\": true,\n",
      "                \"err\": \"\",\n",
      "                \"errmsg\": \"\"\n",
      "            },\n",
      "            {\n",
      "                \"name\": \"sunbird.encryption.service\",\n",
      "                \"healthy\": true,\n",
      "                \"err\": \"ENCRYPTION_ENABLED\",\n",
      "                \"errmsg\": \"false\"\n",
      "            },\n",
      "            {\n",
      "                \"name\": \"sunbird.signature.service\",\n",
      "                \"healthy\": true,\n",
      "                \"err\": \"\",\n",
      "                \"errmsg\": \"\"\n",
      "            },\n",
      "            {\n",
      "                \"name\": \"sunbird.elastic.service\",\n",
      "                \"healthy\": true,\n",
      "                \"err\": \"\",\n",
      "                \"errmsg\": \"\"\n",
      "            },\n",
      "            {\n",
      "                \"name\": \"sunbird.file-storage.service\",\n",
      "                \"healthy\": true,\n",
      "                \"err\": \"\",\n",
      "                \"errmsg\": \"\"\n",
      "            },\n",
      "            {\n",
      "                \"name\": \"sunbird.keycloak.service\",\n",
      "                \"healthy\": true,\n",
      "                \"err\": \"\",\n",
      "                \"errmsg\": \"\"\n",
      "            }\n",
      "        ]\n",
      "    }\n",
      "}\n"
     ]
    }
   ],
   "source": [
    "headers = {\n",
    "  'Content-Type': 'application/json'\n",
    "}\n",
    "\n",
    "response = requests.request(\"GET\", baseUrl + \"/health\", headers=headers)\n",
    "\n",
    "print(json.dumps(response.json(), indent=4))\n",
    "assert response.status_code == 200"
   ]
  },
  {
   "attachments": {},
   "cell_type": "markdown",
   "id": "4194d872",
   "metadata": {
    "pycharm": {
     "name": "#%% md\n"
    }
   },
   "source": [
    "#### admin token generation"
   ]
  },
  {
   "cell_type": "code",
   "execution_count": 94,
   "id": "e4b17322",
   "metadata": {},
   "outputs": [
    {
     "name": "stdout",
     "output_type": "stream",
     "text": [
      "eyJhbGciOiJSUzI1NiIsInR5cCIgOiAiSldUIiwia2lkIiA6ICJFdWc1MU9HMW43UHQyYXVXRWVOdVdUZkVsVTVKOHNsamY5MlR4Z3FvS013In0.eyJleHAiOjE2OTAyNDYyNjMsImlhdCI6MTY5MDI0NTY2MywianRpIjoiNjVhYTk5MTMtNTQyMy00MzY1LWFjOGYtZjVmYzhjNmM1ZmU2IiwiaXNzIjoiaHR0cDovL2RlbW8tYWRtaW4tcG9ydGFsLnN1bmJpcmRyYy5vY2kvYXV0aC9yZWFsbXMvc3VuYmlyZC1yYyIsImF1ZCI6ImFjY291bnQiLCJzdWIiOiIwNDcwYzczOC0xMGY1LTQ1MDgtYjdiMC0xYzBiNTAxZWIxN2EiLCJ0eXAiOiJCZWFyZXIiLCJhenAiOiJyZWdpc3RyeS1mcm9udGVuZCIsInNlc3Npb25fc3RhdGUiOiIxOGQ0ZGU1NC1kNzBiLTRmNjktYTc1MS01ZDNkNmRiNDg0ZTciLCJhY3IiOiIxIiwiYWxsb3dlZC1vcmlnaW5zIjpbImh0dHBzOi8vbG9jYWxob3N0OjQyMDIiLCJodHRwOi8vbG9jYWxob3N0OjQyMDIiLCJodHRwczovL2xvY2FsaG9zdDo0MjAwIiwiaHR0cHM6Ly9uZGVhci54aXYuaW4iLCJodHRwOi8vZGVtby1hZG1pbi1wb3J0YWwuc3VuYmlyZHJjLm9jaSIsImh0dHA6Ly9sb2NhbGhvc3Q6NDIwMCIsImh0dHA6Ly8yMC4xOTguNjQuMTI4Il0sInJlYWxtX2FjY2VzcyI6eyJyb2xlcyI6WyJvZmZsaW5lX2FjY2VzcyIsImFkbWluIiwidW1hX2F1dGhvcml6YXRpb24iLCJkZWZhdWx0LXJvbGVzLW5kZWFyIl19LCJyZXNvdXJjZV9hY2Nlc3MiOnsiYWNjb3VudCI6eyJyb2xlcyI6WyJtYW5hZ2UtYWNjb3VudCIsIm1hbmFnZS1hY2NvdW50LWxpbmtzIiwidmlldy1wcm9maWxlIl19fSwic2NvcGUiOiJwcm9maWxlIGVtYWlsIiwiZW1haWxfdmVyaWZpZWQiOmZhbHNlLCJwcmVmZXJyZWRfdXNlcm5hbWUiOiJhZG1pbiJ9.dPsCX4YRel--MiqyBCObYm5zS4ivfKPS_WWEIAi2LaJp8ZRuqKO9OrHfec27Mfpgw_g7L2Bk-d1VFhPAWI_-oWOIw4oC5U-v-nrBbjQeB1dijIOrcWGvP4bIuuPLP_TGLhCjIKxWvlgJsh0qz_rfAJm1HtH9FEGgxzF3o-ena9kAHc0YtUJaVEMk0GPUAB1sHVS31SeWLIoOy6HlysMGIelgysMAHXo4Uk7cnt_RMGRKYg7hKcTAS9Mq281r81ZmcNZ-5pbwOC3vjBgjVWuTJM7cs7QZe5auVHGZSEvtc_dLIX8Yees1SGBFifG8u-HYYVQiOi5ojPTYokcvNReifw\n"
     ]
    }
   ],
   "source": [
    "# For admin token generation\n",
    "headers = {\n",
    "    'content-type': 'application/x-www-form-urlencoded',\n",
    "}\n",
    "\n",
    "userId = 'admin'\n",
    "\n",
    "data = {\n",
    "  'client_id': 'registry-frontend',\n",
    "  'username': userId,\n",
    "  'password': 'abcd@123',\n",
    "  'grant_type': 'password'\n",
    "}\n",
    "response = requests.post('%s/auth/realms/sunbird-rc/protocol/openid-connect/token'%(keycloakUrl), headers=headers, data=data)\n",
    "token = response.json()[\"access_token\"]\n",
    "print(token)"
   ]
  },
  {
   "attachments": {},
   "cell_type": "markdown",
   "id": "67a4bdab",
   "metadata": {},
   "source": [
    "#### Create Official"
   ]
  },
  {
   "cell_type": "code",
   "execution_count": 95,
   "id": "3e380809",
   "metadata": {},
   "outputs": [],
   "source": [
    "#create issuer\n",
    "issuerUserId = \"rto_official_1\"\n",
    "def createIssuer():\n",
    "    payload = json.dumps({\n",
    "      \"name\": \"RTO Karnataka\",\n",
    "      \"accountDetails\": {\n",
    "        \"userId\": issuerUserId\n",
    "      },\n",
    "      \"contactDetails\": {\n",
    "        \"email\": issuerUserId\n",
    "      }\n",
    "    })\n",
    "    headers = {\n",
    "        'Content-Type': 'application/json',\n",
    "        'Authorization': 'Bearer %s'%token\n",
    "    }\n",
    "    response = requests.post('%s/api/v1/Official/invite'%(baseUrl), headers=headers, data=payload)\n",
    "    return response.json()[\"result\"]['Official'][\"osid\"]\n",
    "\n",
    "    \n",
    "issuerId = createIssuer()\n",
    "\n"
   ]
  },
  {
   "attachments": {},
   "cell_type": "markdown",
   "id": "77971a95",
   "metadata": {},
   "source": [
    "#### Get Official/Issuer Token"
   ]
  },
  {
   "cell_type": "code",
   "execution_count": 112,
   "id": "2317cbcc",
   "metadata": {},
   "outputs": [
    {
     "name": "stdout",
     "output_type": "stream",
     "text": [
      "eyJhbGciOiJSUzI1NiIsInR5cCIgOiAiSldUIiwia2lkIiA6ICJFdWc1MU9HMW43UHQyYXVXRWVOdVdUZkVsVTVKOHNsamY5MlR4Z3FvS013In0.eyJleHAiOjE2OTAyNDY1MzcsImlhdCI6MTY5MDI0NTkzNywianRpIjoiM2ZiZGFmMzgtMDM2Mi00YWM1LTg5ZWQtYTYyOTRjMzMxZjE4IiwiaXNzIjoiaHR0cDovL2RlbW8tYWRtaW4tcG9ydGFsLnN1bmJpcmRyYy5vY2kvYXV0aC9yZWFsbXMvc3VuYmlyZC1yYyIsImF1ZCI6ImFjY291bnQiLCJzdWIiOiIxMDVjMGNhOC1kYzZlLTQ3OWEtYjYwYS00ZTMyZjI2OGMzY2EiLCJ0eXAiOiJCZWFyZXIiLCJhenAiOiJyZWdpc3RyeS1mcm9udGVuZCIsInNlc3Npb25fc3RhdGUiOiIzM2M4NzQwZi01N2NjLTQyYzQtOTQxMi1hMjE3ZWVkNjU4NzEiLCJhY3IiOiIxIiwiYWxsb3dlZC1vcmlnaW5zIjpbImh0dHBzOi8vbG9jYWxob3N0OjQyMDIiLCJodHRwOi8vbG9jYWxob3N0OjQyMDIiLCJodHRwczovL2xvY2FsaG9zdDo0MjAwIiwiaHR0cHM6Ly9uZGVhci54aXYuaW4iLCJodHRwOi8vZGVtby1hZG1pbi1wb3J0YWwuc3VuYmlyZHJjLm9jaSIsImh0dHA6Ly9sb2NhbGhvc3Q6NDIwMCIsImh0dHA6Ly8yMC4xOTguNjQuMTI4Il0sInJlYWxtX2FjY2VzcyI6eyJyb2xlcyI6WyJPZmZpY2lhbCIsIm9mZmxpbmVfYWNjZXNzIiwiYWRtaW4iLCJ1bWFfYXV0aG9yaXphdGlvbiIsImRlZmF1bHQtcm9sZXMtbmRlYXIiXX0sInJlc291cmNlX2FjY2VzcyI6eyJhY2NvdW50Ijp7InJvbGVzIjpbIm1hbmFnZS1hY2NvdW50IiwibWFuYWdlLWFjY291bnQtbGlua3MiLCJ2aWV3LXByb2ZpbGUiXX19LCJzY29wZSI6InByb2ZpbGUgZW1haWwiLCJlbWFpbF92ZXJpZmllZCI6ZmFsc2UsInByZWZlcnJlZF91c2VybmFtZSI6InJ0b19vZmZpY2lhbF8xIiwiZW50aXR5IjpbIk9mZmljaWFsIl0sImVtYWlsIjoicnRvX29mZmljaWFsXzEifQ.cBP4VYOKXlqsFZlvc47LCv4oVqWrBrPhj727okvVMH7-S6gBj7bP1ihF8kEMfrP6404R7Qt6HjUU9Oz-P8KimURFqg0KUXdhUPxIk4eN9dW0cQdPPaFo9mhm8eA1CwzrGn4xDrGCqRZIAmBYEvEF6MeMg0Z4YwBnst-N0SMPmWgG_nvcK_0qS1fo1FLSpHqdwopBT4iVyWyznyYChqTcl-CDO5Vemdf9l3pJ-zo31Jv49bYsfF4r5sC0QriLc5pF81vfasjoIecp2T9eCSYgXCbqqNqDwF22ITB0avbBqXLYv2K1b6SGfESnfrwGcW0d5y0YVFCRPLk_3Ne39lXtbg\n"
     ]
    }
   ],
   "source": [
    "#get issuer token\n",
    "headers = {\n",
    "    'content-type': 'application/x-www-form-urlencoded',\n",
    "}\n",
    "issuerUserId = \"rto_official_1\"\n",
    "data = {\n",
    "  'client_id': 'registry-frontend',\n",
    "  'username': issuerUserId,\n",
    "  'password': 'abcd@123',\n",
    "  'grant_type': 'password'\n",
    "}\n",
    "\n",
    "response = requests.post('%s/auth/realms/sunbird-rc/protocol/openid-connect/token'%(keycloakUrl), headers=headers, data=data)\n",
    "issuerToken = response.json()[\"access_token\"]\n",
    "print(issuerToken)"
   ]
  },
  {
   "attachments": {},
   "cell_type": "markdown",
   "id": "9ffa5332",
   "metadata": {},
   "source": [
    "#### Get official details"
   ]
  },
  {
   "cell_type": "code",
   "execution_count": 97,
   "id": "798f83d3",
   "metadata": {},
   "outputs": [
    {
     "name": "stdout",
     "output_type": "stream",
     "text": [
      "[{\"osUpdatedAt\":\"2023-07-25T00:41:07.869Z\",\"osCreatedAt\":\"2023-07-25T00:41:07.869Z\",\"osUpdatedBy\":\"\",\"contactDetails\":{\"osid\":\"1-a2f19391-2855-403a-b7c6-1c25b2bec2ad\",\"osUpdatedAt\":\"2023-07-25T00:41:07.869Z\",\"osCreatedAt\":\"2023-07-25T00:41:07.869Z\",\"osUpdatedBy\":\"\",\"osCreatedBy\":\"\",\"email\":\"rto_official_1\"},\"name\":\"RTO Karnataka\",\"osCreatedBy\":\"\",\"osid\":\"1-2787fa6b-03c5-48e8-8c5a-2db805e98c02\",\"accountDetails\":{\"osid\":\"1-1c8e0399-9a0f-4486-8448-931d2920a5ca\",\"osUpdatedAt\":\"2023-07-25T00:41:07.869Z\",\"osCreatedAt\":\"2023-07-25T00:41:07.869Z\",\"osUpdatedBy\":\"\",\"osCreatedBy\":\"\",\"userId\":\"rto_official_1\"},\"osOwner\":[\"105c0ca8-dc6e-479a-b60a-4e32f268c3ca\"]}]\n",
      "1-2787fa6b-03c5-48e8-8c5a-2db805e98c02\n"
     ]
    }
   ],
   "source": [
    "headers = {\n",
    "  'Content-Type': 'application/json',\n",
    "    'Authorization': 'bearer %s'%issuerToken\n",
    "}\n",
    "\n",
    "response = requests.request(\"GET\", apibaseUrl + \"Official\", headers=headers)\n",
    "\n",
    "print(response.text)\n",
    "issuerId = response.json()[0][\"osid\"]\n",
    "print(issuerId)\n",
    "assert response.status_code == 200"
   ]
  },
  {
   "attachments": {},
   "cell_type": "markdown",
   "id": "620e9a69",
   "metadata": {},
   "source": [
    "#### Upload Certificate Template"
   ]
  },
  {
   "cell_type": "code",
   "execution_count": 98,
   "id": "3fb76f0c",
   "metadata": {},
   "outputs": [
    {
     "name": "stdout",
     "output_type": "stream",
     "text": [
      "{\n",
      "    \"documentLocations\": [\n",
      "        \"Official/1-2787fa6b-03c5-48e8-8c5a-2db805e98c02/templates/documents/7fdf3690-fb56-43be-8b94-2fcad81da765-registrationcertificate.svg\"\n",
      "    ],\n",
      "    \"errors\": []\n",
      "}\n"
     ]
    }
   ],
   "source": [
    "def uploadTemplate(entityName, entityId):\n",
    "    payload = {}\n",
    "    files=[\n",
    "      ('files',('registrationcertificate.svg',open('./schema_templates/registrationcertificate.svg','rb'),'image/svg+xml'))\n",
    "    ]\n",
    "    headers = {\n",
    "        'Authorization': 'Bearer %s'%issuerToken\n",
    "    }\n",
    "    response = requests.post('%s/api/v1/%s/%s/templates/documents'%(baseUrl, entityName, entityId), headers=headers, data=payload, files=files)\n",
    "    print(json.dumps(response.json(), indent=4))\n",
    "    return response.json()['documentLocations'][0]\n",
    "templateUrl = uploadTemplate('Official', issuerId)"
   ]
  },
  {
   "cell_type": "code",
   "execution_count": 99,
   "id": "fca835ab",
   "metadata": {},
   "outputs": [
    {
     "name": "stdout",
     "output_type": "stream",
     "text": [
      "Official/1-2787fa6b-03c5-48e8-8c5a-2db805e98c02/templates/documents/7fdf3690-fb56-43be-8b94-2fcad81da765-registrationcertificate.svg\n"
     ]
    }
   ],
   "source": [
    "# Show template url\n",
    "print(templateUrl)"
   ]
  },
  {
   "cell_type": "code",
   "execution_count": 100,
   "id": "c735327a",
   "metadata": {},
   "outputs": [],
   "source": [
    "schemaName = \"VehicleCertificate\"\n",
    "def getSchemaBody(templateUrl):\n",
    "    return {\n",
    "      \"name\": schemaName,\n",
    "      \"schema\": \"{\\\"$schema\\\":\\\"http://json-schema.org/draft-07/schema\\\",\\\"type\\\":\\\"object\\\",\\\"properties\\\":{\\\"VehicleCertificate\\\":{\\\"$ref\\\":\\\"#/definitions/VehicleCertificate\\\"}},\\\"required\\\":[\\\"VehicleCertificate\\\"],\\\"title\\\":\\\"VehicleCertificate\\\",\\\"definitions\\\":{\\\"VehicleCertificate\\\":{\\\"$id\\\":\\\"#/properties/VehicleCertificate\\\",\\\"type\\\":\\\"object\\\",\\\"title\\\":\\\"The VehicleCertificate Schema\\\",\\\"required\\\":[\\\"regnumber\\\",\\\"mnfyear\\\",\\\"dateofaward\\\",\\\"nameofScheme\\\",\\\"name\\\"],\\\"properties\\\":{\\\"name\\\":{\\\"type\\\":\\\"string\\\",\\\"title\\\":\\\"Name\\\"},\\\"dateofaward\\\":{\\\"type\\\":\\\"string\\\",\\\"title\\\":\\\"Date Of Award\\\",\\\"format\\\":\\\"date\\\"},\\\"nameofScheme\\\":{\\\"type\\\":\\\"string\\\",\\\"title\\\":\\\"Name of Scheme\\\"},\\\"regnumber\\\":{\\\"type\\\":\\\"string\\\",\\\"title\\\":\\\"Vehicle Registration Number\\\"},\\\"mnfyear\\\":{\\\"type\\\":\\\"string\\\",\\\"title\\\":\\\"Manufacturing year\\\"}}}},\\\"_osConfig\\\":{\\\"uniqueIndexFields\\\":[],\\\"privateFields\\\":[],\\\"privateFieldConfig\\\":\\\"HASH\\\",\\\"internalFieldConfig\\\":\\\"FULL\\\",\\\"systemFields\\\":[\\\"osCreatedAt\\\",\\\"osUpdatedAt\\\",\\\"osCreatedBy\\\",\\\"osUpdatedBy\\\"],\\\"roles\\\":[\\\"Official\\\"],\\\"inviteRoles\\\":[\\\"anonymous\\\"],\\\"credentialTemplate\\\":{\\\"@context\\\":[\\\"https://www.w3.org/2018/credentials/v1\\\",\\\"https://gist.githubusercontent.com/ddevadat/4bb88499cf374f7ba8d1c9138f52eb67/raw/7c62ff3d2af28e1abc6dfcc2c95b89a97c029554/vehiclecertificate_ct.json\\\"],\\\"type\\\":[\\\"VerifiableCredential\\\"],\\\"issuanceDate\\\":\\\"{{osCreatedAt}}\\\",\\\"credentialSubject\\\":{\\\"type\\\":\\\"Vehicle\\\",\\\"name\\\":\\\"{{name}}\\\",\\\"mnfyear\\\":\\\"{{mnfyear}}\\\",\\\"regnumber\\\":\\\"{{regnumber}}\\\"},\\\"evidence\\\":{\\\"type\\\":\\\"Registration\\\",\\\"nameofScheme\\\":\\\"{{nameofScheme}}\\\",\\\"dateofaward\\\":\\\"{{dateofaward}}\\\"},\\\"issuer\\\":\\\"did:web:sunbirdrc.dev/vc/Official\\\"},\\\"certificateTemplates\\\":{\\\"html\\\":\\\"minio://%s\\\"}}}\"%(templateUrl),\n",
    "      \"status\": \"PUBLISHED\"\n",
    "    }"
   ]
  },
  {
   "attachments": {},
   "cell_type": "markdown",
   "id": "da06a248",
   "metadata": {},
   "source": [
    "#### Create the VC schema"
   ]
  },
  {
   "cell_type": "code",
   "execution_count": 101,
   "id": "6d7e8829",
   "metadata": {},
   "outputs": [
    {
     "name": "stdout",
     "output_type": "stream",
     "text": [
      "200\n",
      "{'id': 'sunbird-rc.registry.create', 'ver': '1.0', 'ets': 1690245739199, 'params': {'resmsgid': '', 'msgid': '6d110f2a-acfa-44d9-9669-a2cd4d6ae9a7', 'err': '', 'status': 'SUCCESSFUL', 'errmsg': ''}, 'responseCode': 'OK', 'result': {'Schema': {'osid': '1-bfe26838-56d0-49fd-93b2-b1a4735ae4d3'}}}\n",
      "1-bfe26838-56d0-49fd-93b2-b1a4735ae4d3\n"
     ]
    }
   ],
   "source": [
    "# create a schema\n",
    "headers = {\n",
    "    'Content-Type': 'application/json',\n",
    "    'Authorization': 'Bearer %s'%issuerToken, \n",
    "}\n",
    "entity_name = 'Schema'\n",
    "data = getSchemaBody(templateUrl)\n",
    "response = requests.post('%s/api/v1/%s'%(baseUrl, entity_name), headers=headers, json=data)\n",
    "print(response.status_code)\n",
    "print(response.json())\n",
    "schemaOsid = response.json()[\"result\"]['Schema'][\"osid\"]\n",
    "print(schemaOsid)"
   ]
  },
  {
   "attachments": {},
   "cell_type": "markdown",
   "id": "4a5e30b4",
   "metadata": {},
   "source": [
    "#### Onboard Citizen 1"
   ]
  },
  {
   "cell_type": "code",
   "execution_count": 102,
   "id": "a7473344",
   "metadata": {},
   "outputs": [
    {
     "name": "stdout",
     "output_type": "stream",
     "text": [
      "{\"id\":\"sunbird-rc.registry.invite\",\"ver\":\"1.0\",\"ets\":1690245744355,\"params\":{\"resmsgid\":\"\",\"msgid\":\"349da4ec-ca4b-4841-8046-fff1c202ffa7\",\"err\":\"\",\"status\":\"SUCCESSFUL\",\"errmsg\":\"\"},\"responseCode\":\"OK\",\"result\":{\"CitizenV2\":{\"osid\":\"1-0c3cfb31-9569-4d79-b7e7-9b71d6af4aa2\"}}}\n"
     ]
    }
   ],
   "source": [
    "### Code for inviting citizen\n",
    "\n",
    "citizenUserId = \"zcrawley@gmail.com\"\n",
    "citizenRequestBody = {\n",
    "    \"name\": \"Zak Crawley\",\n",
    "    \"email\": citizenUserId,\n",
    "    \"dob\": \"2000-10-10\",\n",
    "    \"gender\": \"Male\"\n",
    "}\n",
    "\n",
    "headers = {\n",
    "  'Content-Type': 'application/json'\n",
    "}\n",
    "\n",
    "response = requests.request(\"POST\", apibaseUrl + \"CitizenV2/invite\", headers=headers, json=citizenRequestBody)\n",
    "\n",
    "print(response.text)\n",
    "assert response.status_code == 200"
   ]
  },
  {
   "attachments": {},
   "cell_type": "markdown",
   "id": "a7ae1963",
   "metadata": {},
   "source": [
    "#### Get Citizen1 Token"
   ]
  },
  {
   "cell_type": "code",
   "execution_count": 103,
   "id": "fbc8dd46",
   "metadata": {},
   "outputs": [
    {
     "name": "stdout",
     "output_type": "stream",
     "text": [
      "200\n",
      "eyJhbGciOiJSUzI1NiIsInR5cCIgOiAiSldUIiwia2lkIiA6ICJFdWc1MU9HMW43UHQyYXVXRWVOdVdUZkVsVTVKOHNsamY5MlR4Z3FvS013In0.eyJleHAiOjE2OTAyNDYzNDgsImlhdCI6MTY5MDI0NTc0OCwianRpIjoiMGUxMTcwNTktY2NiMy00ZWMyLWI3OTItYmE1OWMxNzk4MzJkIiwiaXNzIjoiaHR0cDovL2RlbW8tYWRtaW4tcG9ydGFsLnN1bmJpcmRyYy5vY2kvYXV0aC9yZWFsbXMvc3VuYmlyZC1yYyIsImF1ZCI6ImFjY291bnQiLCJzdWIiOiI0NmEyZWQ2ZC1mMDNhLTRjMDctOGU3ZS1iMWZlZjhiMTBmYmYiLCJ0eXAiOiJCZWFyZXIiLCJhenAiOiJyZWdpc3RyeS1mcm9udGVuZCIsInNlc3Npb25fc3RhdGUiOiJkNmIyY2NjYS1hNDExLTQ3YTktOWUzMi03ODVlOGU0NjdkMGYiLCJhY3IiOiIxIiwiYWxsb3dlZC1vcmlnaW5zIjpbImh0dHBzOi8vbG9jYWxob3N0OjQyMDIiLCJodHRwOi8vbG9jYWxob3N0OjQyMDIiLCJodHRwczovL2xvY2FsaG9zdDo0MjAwIiwiaHR0cHM6Ly9uZGVhci54aXYuaW4iLCJodHRwOi8vZGVtby1hZG1pbi1wb3J0YWwuc3VuYmlyZHJjLm9jaSIsImh0dHA6Ly9sb2NhbGhvc3Q6NDIwMCIsImh0dHA6Ly8yMC4xOTguNjQuMTI4Il0sInJlYWxtX2FjY2VzcyI6eyJyb2xlcyI6WyJvZmZsaW5lX2FjY2VzcyIsInVtYV9hdXRob3JpemF0aW9uIiwiZGVmYXVsdC1yb2xlcy1uZGVhciIsIkNpdGl6ZW5WMiJdfSwicmVzb3VyY2VfYWNjZXNzIjp7ImFjY291bnQiOnsicm9sZXMiOlsibWFuYWdlLWFjY291bnQiLCJtYW5hZ2UtYWNjb3VudC1saW5rcyIsInZpZXctcHJvZmlsZSJdfX0sInNjb3BlIjoicHJvZmlsZSBlbWFpbCIsImVtYWlsX3ZlcmlmaWVkIjpmYWxzZSwicHJlZmVycmVkX3VzZXJuYW1lIjoiemNyYXdsZXlAZ21haWwuY29tIiwiZW50aXR5IjpbIkNpdGl6ZW5WMiJdLCJlbWFpbCI6InpjcmF3bGV5QGdtYWlsLmNvbSJ9.eN-LDzOoR9zBaVjOAaHc1quoUmwk0SGw4Qp1B3VbpWNxexuTHXrpgtkt3Ap9f7sGb6LcI1NI_P_BPdkb3IX22yccr51FgtX9ZlkSPx8EBWs4Ulu23lJkjNWxhJZcHcP-81s44jV86TB-CQhWXCflL69GKBMW3zR9KH8oTWZz2n05ukLLWCN6_jM4vB2p-hr2OddAMDbpjo7f4H1lQh-sZRontRr_JUq3U5yJz5zQAxIQl4pbfVEc1buyZajBgZE5MgSVOYSplOJUuq8uJ3LmAPYiT3eZKo6X38ejlzlOVt3sigeVjyF5oA8kPbLQfcWKvVOZ1OJCsMp13XHoZvp2xg\n"
     ]
    }
   ],
   "source": [
    "def getToken(userId):\n",
    "    headers = {\n",
    "        'content-type': 'application/x-www-form-urlencoded',\n",
    "    }\n",
    "\n",
    "    data = {\n",
    "      'client_id': 'registry-frontend',\n",
    "      'username': userId,\n",
    "      'password': 'abcd@123',\n",
    "      'grant_type': 'password'\n",
    "    }\n",
    "\n",
    "    response = requests.post('%s/auth/realms/sunbird-rc/protocol/openid-connect/token'%(keycloakUrl), headers=headers, data=data)\n",
    "    print(response.status_code)\n",
    "    citizentoken = response.json()[\"access_token\"]\n",
    "    return citizentoken\n",
    "\n",
    "citizen1token = getToken(citizenUserId)\n",
    "print(citizen1token)"
   ]
  },
  {
   "attachments": {},
   "cell_type": "markdown",
   "id": "04fe9c4b",
   "metadata": {},
   "source": [
    "#### Get Citizen1 Details"
   ]
  },
  {
   "cell_type": "code",
   "execution_count": 108,
   "id": "7c60dd77",
   "metadata": {},
   "outputs": [
    {
     "name": "stdout",
     "output_type": "stream",
     "text": [
      "[{\"osUpdatedAt\":\"2023-07-25T00:42:24.601Z\",\"gender\":\"Male\",\"osCreatedAt\":\"2023-07-25T00:42:24.601Z\",\"osUpdatedBy\":\"\",\"dob\":\"2000-10-10\",\"name\":\"Zak Crawley\",\"osCreatedBy\":\"\",\"osid\":\"1-0c3cfb31-9569-4d79-b7e7-9b71d6af4aa2\",\"osOwner\":[\"46a2ed6d-f03a-4c07-8e7e-b1fef8b10fbf\"],\"email\":\"zcrawley@gmail.com\"}]\n",
      "1-0c3cfb31-9569-4d79-b7e7-9b71d6af4aa2\n",
      "Zak Crawley\n",
      "zcrawley@gmail.com\n"
     ]
    }
   ],
   "source": [
    "headers = {\n",
    "  'Content-Type': 'application/json',\n",
    "    'Authorization': 'bearer %s'%citizen1token\n",
    "}\n",
    "\n",
    "response = requests.request(\"GET\", apibaseUrl + \"CitizenV2\", headers=headers)\n",
    "\n",
    "print(response.text)\n",
    "citizen1Osid = response.json()[0][\"osid\"]\n",
    "citizen1Name = response.json()[0][\"name\"]\n",
    "citizen1Email = response.json()[0][\"email\"]\n",
    "print(citizen1Osid)\n",
    "print(citizen1Name)\n",
    "print(citizen1Email)\n",
    "assert response.status_code == 200"
   ]
  },
  {
   "attachments": {},
   "cell_type": "markdown",
   "id": "4bd318ba",
   "metadata": {},
   "source": [
    "#### Official Adds Vehicle and assigns to Citizen1"
   ]
  },
  {
   "cell_type": "code",
   "execution_count": 114,
   "id": "d79f9b04",
   "metadata": {},
   "outputs": [
    {
     "name": "stdout",
     "output_type": "stream",
     "text": [
      "{\"id\":\"sunbird-rc.registry.invite\",\"ver\":\"1.0\",\"ets\":1690246048689,\"params\":{\"resmsgid\":\"\",\"msgid\":\"5d3886d3-0079-433f-94f1-a9755fa7a168\",\"err\":\"\",\"status\":\"UNSUCCESSFUL\",\"errmsg\":\"Error occurred\"},\"responseCode\":\"OK\"}\n"
     ]
    },
    {
     "ename": "AssertionError",
     "evalue": "",
     "output_type": "error",
     "traceback": [
      "\u001b[0;31m---------------------------------------------------------------------------\u001b[0m",
      "\u001b[0;31mAssertionError\u001b[0m                            Traceback (most recent call last)",
      "Cell \u001b[0;32mIn[114], line 25\u001b[0m\n\u001b[1;32m     22\u001b[0m response \u001b[39m=\u001b[39m requests\u001b[39m.\u001b[39mrequest(\u001b[39m\"\u001b[39m\u001b[39mPOST\u001b[39m\u001b[39m\"\u001b[39m, apibaseUrl \u001b[39m+\u001b[39m \u001b[39m\"\u001b[39m\u001b[39mVehicleV2/invite\u001b[39m\u001b[39m\"\u001b[39m, headers\u001b[39m=\u001b[39mheaders, json\u001b[39m=\u001b[39mvehicleRequestBody)\n\u001b[1;32m     24\u001b[0m \u001b[39mprint\u001b[39m(response\u001b[39m.\u001b[39mtext)\n\u001b[0;32m---> 25\u001b[0m \u001b[39massert\u001b[39;00m response\u001b[39m.\u001b[39mstatus_code \u001b[39m==\u001b[39m \u001b[39m200\u001b[39m\n",
      "\u001b[0;31mAssertionError\u001b[0m: "
     ]
    }
   ],
   "source": [
    "### Code for adding vehicle\n",
    "\n",
    "vehicleRegNumber = \"ECB73D2\"\n",
    "vehicleRequestBody = {\n",
    "    \"regnumber\": vehicleRegNumber,\n",
    "    \"mnfyear\": \"2022\",\n",
    "    \"vehicletype\": \"Car\",\n",
    "    \"owner\": [\n",
    "      {\n",
    "      \"citizenOSID\": citizen1Osid,\n",
    "      \"citizenName\": citizen1Name,\n",
    "      \"citizenEmail\": citizen1Email\n",
    "      }\n",
    "    ]\n",
    "}\n",
    "\n",
    "headers = {\n",
    "  'Content-Type': 'application/json',\n",
    "  'Authorization': 'bearer %s'%issuerToken\n",
    "}\n",
    "\n",
    "response = requests.request(\"POST\", apibaseUrl + \"VehicleV2/invite\", headers=headers, json=vehicleRequestBody)\n",
    "\n",
    "print(response.text)\n",
    "assert response.status_code == 200\n"
   ]
  },
  {
   "attachments": {},
   "cell_type": "markdown",
   "id": "c721198a",
   "metadata": {},
   "source": [
    "#### Search Vehicle Details by vehicle reg number"
   ]
  },
  {
   "cell_type": "code",
   "execution_count": 58,
   "id": "7d785497",
   "metadata": {},
   "outputs": [
    {
     "name": "stdout",
     "output_type": "stream",
     "text": [
      "[{\"regnumber\":\"ECB73D2\",\"mnfyear\":\"2022\",\"vehicletype\":\"Car\",\"owner\":[{\"citizenOSID\":\"1-b0febf21-a937-4086-b7a6-810ed88fa598\",\"citizenName\":\"Zak Crawley\",\"citizenEmail\":\"zcrawley@gmail.com\",\"osCreatedAt\":\"2023-07-24T23:51:21.525Z\",\"osUpdatedAt\":\"2023-07-24T23:51:21.525Z\",\"osCreatedBy\":\"\",\"osUpdatedBy\":\"\",\"osid\":\"1-dffe5449-df31-44eb-b01f-4fb2c2dd5d46\"}],\"osCreatedAt\":\"2023-07-24T23:51:21.525Z\",\"osUpdatedAt\":\"2023-07-24T23:51:21.525Z\",\"osCreatedBy\":\"\",\"osUpdatedBy\":\"\",\"osid\":\"1-c3640a44-3f22-4f70-b2e9-c1523ee4476a\"}]\n",
      "1-c3640a44-3f22-4f70-b2e9-c1523ee4476a\n"
     ]
    }
   ],
   "source": [
    "headers = {\n",
    "  'Content-Type': 'application/json',\n",
    "    'Authorization': 'bearer %s'%issuerToken\n",
    "}\n",
    "vehicleSearchBody = {\n",
    "    \"filters\": {\n",
    "        \"regnumber\": {\n",
    "            \"contains\": vehicleRegNumber\n",
    "        }\n",
    "    },\n",
    "    \"limit\": 5,\n",
    "    \"offset\": 0\n",
    "}\n",
    "\n",
    "response = requests.request(\"POST\", apibaseUrl + \"VehicleV2/search\", headers=headers,json=vehicleSearchBody)\n",
    "\n",
    "print(response.text)\n",
    "vehicleOsid = response.json()[0][\"osid\"]\n",
    "print(vehicleOsid)\n",
    "assert response.status_code == 200"
   ]
  },
  {
   "attachments": {},
   "cell_type": "markdown",
   "id": "31a0b27d",
   "metadata": {},
   "source": [
    "#### Official Create a VC for Citizen1"
   ]
  },
  {
   "cell_type": "code",
   "execution_count": 59,
   "id": "ea9473a1",
   "metadata": {},
   "outputs": [
    {
     "name": "stdout",
     "output_type": "stream",
     "text": [
      "200\n",
      "1-b4cef32c-194d-4ef7-a676-250eb65be00e\n"
     ]
    }
   ],
   "source": [
    "# create a credential\n",
    "headers = {\n",
    "    'Content-Type': 'application/json',\n",
    "    'Authorization': 'Bearer %s'%issuerToken, \n",
    "}\n",
    "data = {\n",
    "    \"name\": \"Zak Crawley\",\n",
    "    \"regnumber\": \"ECB73D2\",\n",
    "    \"dateofaward\": \"2023-04-20\",\n",
    "    \"nameofScheme\": \"Vehicle Registration\",\n",
    "    \"mnfyear\": \"2022\"\n",
    "\n",
    "}\n",
    "response = requests.post('%s/api/v1/%s'%(baseUrl, schemaName), headers=headers, json=data)\n",
    "print(response.status_code)\n",
    "credentialOsid = response.json()[\"result\"]['VehicleCertificate'][\"osid\"]\n",
    "print(credentialOsid)"
   ]
  },
  {
   "attachments": {},
   "cell_type": "markdown",
   "id": "53780fb0",
   "metadata": {},
   "source": [
    "#### Official Views the Issued VC"
   ]
  },
  {
   "cell_type": "code",
   "execution_count": 72,
   "id": "e1de70fa",
   "metadata": {},
   "outputs": [
    {
     "data": {
      "image/svg+xml": [
       "<svg xmlns=\"http://www.w3.org/2000/svg\" xmlns:xlink=\"http://www.w3.org/1999/xlink\" width=\"595\" height=\"842\" viewBox=\"0 0 595 842\" fill=\"none\">\n",
       "<rect width=\"595\" height=\"842\" fill=\"#F5F5F5\"/>\n",
       "<path d=\"M-2062 -2097C-2062 -2098.1 -2061.1 -2099 -2060 -2099H720C721.104 -2099 722 -2098.1 722 -2097V944C722 945.104 721.104 946 720 946H-2060C-2061.1 946 -2062 945.104 -2062 944V-2097Z\" fill=\"#E5E5E5\"/>\n",
       "<g clip-path=\"url(#clip0_0_1)\">\n",
       "<rect x=\"1.5\" y=\"1.5\" width=\"592\" height=\"839\" fill=\"white\" stroke=\"#8D9091\" stroke-width=\"3\"/>\n",
       "<text fill=\"black\" xml:space=\"preserve\" style=\"white-space: pre\" font-family=\"Lato\" font-size=\"24\" font-weight=\"bold\" letter-spacing=\"0px\"><tspan x=\"177.879\" y=\"194.288\">Vehicle Registration Certificate</tspan></text>\n",
       "<text fill=\"black\" xml:space=\"preserve\" style=\"white-space: pre\" font-family=\"Lato\" font-size=\"16\" letter-spacing=\"0px\"><tspan x=\"41\" y=\"331.192\">Vehicle Details</tspan></text>\n",
       "<text fill=\"black\" xml:space=\"preserve\" style=\"white-space: pre\" font-family=\"Lato\" font-size=\"16\" letter-spacing=\"0px\"><tspan x=\"41\" y=\"383.192\">Registration number: VIC73D1</tspan></text>\n",
       "<text fill=\"black\" xml:space=\"preserve\" style=\"white-space: pre\" font-family=\"Lato\" font-size=\"16\" letter-spacing=\"0px\"><tspan x=\"41\" y=\"403.192\">Manufacturing Year: 2022</tspan></text>\n",
       "\n",
       "<text fill=\"black\" xml:space=\"preserve\" style=\"white-space: pre\" font-family=\"Lato\" font-size=\"16\" letter-spacing=\"0px\"><tspan x=\"41\" y=\"423.192\">Vehicle Owner: Tom Latham</tspan></text>\n",
       "\n",
       "<text fill=\"#1D1D1D\" xml:space=\"preserve\" style=\"white-space: pre\" font-family=\"Lato\" font-size=\"14\" font-weight=\"bold\" letter-spacing=\"0px\"><tspan x=\"45\" y=\"538.418\">Vehicle Registration</tspan></text>\n",
       "<text fill=\"#1B2124\" xml:space=\"preserve\" style=\"white-space: pre\" font-family=\"Lato\" font-size=\"12\" letter-spacing=\"0px\"><tspan x=\"45\" y=\"589.644\">Date of Issue : 2023-04-20</tspan></text>\n",
       "<rect x=\"347\" y=\"585\" width=\"208\" height=\"208\" fill=\"url(#pattern0)\"/>\n",
       "<text fill=\"#1B2124\" xml:space=\"preserve\" style=\"white-space: pre\" font-family=\"Lato\" font-size=\"8\" letter-spacing=\"0px\"><tspan x=\"382.008\" y=\"814.096\">Scan the QR Code to verify the certificate at\n",
       "</tspan><tspan x=\"381.82\" y=\"824.096\">https://demo-education-registry.xiv.in/verify</tspan></text>\n",
       "<rect x=\"40\" y=\"40\" width=\"386\" height=\"71\" fill=\"url(#pattern1)\"/>\n",
       "</g>\n",
       "<path d=\"M-2060 -2098H720V-2100H-2060V-2098ZM721 -2097V944H723V-2097H721ZM720 945H-2060V947H720V945ZM-2061 944V-2097H-2063V944H-2061ZM-2060 945C-2060.55 945 -2061 944.552 -2061 944H-2063C-2063 945.657 -2061.66 947 -2060 947V945ZM721 944C721 944.552 720.552 945 720 945V947C721.657 947 723 945.657 723 944H721ZM720 -2098C720.552 -2098 721 -2097.55 721 -2097H723C723 -2098.66 721.657 -2100 720 -2100V-2098ZM-2060 -2100C-2061.66 -2100 -2063 -2098.66 -2063 -2097H-2061C-2061 -2097.55 -2060.55 -2098 -2060 -2098V-2100Z\" fill=\"black\" fill-opacity=\"0.1\"/>\n",
       "<defs>\n",
       "<pattern id=\"pattern0\" patternContentUnits=\"objectBoundingBox\" width=\"1\" height=\"1\">\n",
       "<use xlink:href=\"#image0_0_1\" transform=\"scale(0.00123457)\"/>\n",
       "</pattern>\n",
       "<pattern id=\"pattern1\" patternContentUnits=\"objectBoundingBox\" width=\"1\" height=\"1\">\n",
       "<use xlink:href=\"#image1_0_1\" transform=\"matrix(0.00143701 0 0 0.0078125 -0.0471078 0)\"/>\n",
       "</pattern>\n",
       "<clipPath id=\"clip0_0_1\">\n",
       "<rect width=\"595\" height=\"842\" fill=\"white\"/>\n",
       "</clipPath>\n",
       "<image id=\"image0_0_1\" width=\"810\" height=\"810\" xlink:href=\"data:image/png;base64,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\"/>\n",
       "<image id=\"image1_0_1\" width=\"729\" height=\"128\" xlink:href=\"data:image/png;base64,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\"/>\n",
       "</defs>\n",
       "</svg>"
      ],
      "text/plain": [
       "<IPython.core.display.SVG object>"
      ]
     },
     "metadata": {},
     "output_type": "display_data"
    }
   ],
   "source": [
    "#get a credential\n",
    "# credentialOsid='1-2ffb8f5c-ec51-47f3-8b26-0796a8328803'\n",
    "schemaName = \"VehicleCertificate\"\n",
    "headers = {\n",
    "    'Accept': 'image/svg+xml',\n",
    "    'Authorization': 'Bearer %s'%issuerToken,\n",
    "    \"template-key\": \"html\"\n",
    "}\n",
    "response = requests.get('%s/api/v1/%s/%s'%(baseUrl, schemaName, credentialOsid), headers=headers)\n",
    "display(SVG(response.content))"
   ]
  },
  {
   "attachments": {},
   "cell_type": "markdown",
   "id": "64454c22",
   "metadata": {},
   "source": [
    "#### Onboard Citizen 2"
   ]
  },
  {
   "cell_type": "code",
   "execution_count": 61,
   "id": "47aa5ddc",
   "metadata": {},
   "outputs": [
    {
     "name": "stdout",
     "output_type": "stream",
     "text": [
      "{\"id\":\"sunbird-rc.registry.invite\",\"ver\":\"1.0\",\"ets\":1690242896833,\"params\":{\"resmsgid\":\"\",\"msgid\":\"af3f25b0-338d-41c8-a644-38c06bf23243\",\"err\":\"\",\"status\":\"SUCCESSFUL\",\"errmsg\":\"\"},\"responseCode\":\"OK\",\"result\":{\"CitizenV2\":{\"osid\":\"1-3724bcdb-4e42-45e6-a78e-cacdbe02a41e\"}}}\n"
     ]
    }
   ],
   "source": [
    "## Code for inviting citizen\n",
    "\n",
    "citizen2UserId = \"hbrook@gmail.com\"\n",
    "citizenRequestBody = {\n",
    "    \"name\": \"Harry Brook\",\n",
    "    \"email\": citizen2UserId,\n",
    "    \"dob\": \"2001-10-10\",\n",
    "    \"gender\": \"Male\"\n",
    "}\n",
    "\n",
    "headers = {\n",
    "  'Content-Type': 'application/json'\n",
    "}\n",
    "\n",
    "response = requests.request(\"POST\", apibaseUrl + \"CitizenV2/invite\", headers=headers, json=citizenRequestBody)\n",
    "\n",
    "print(response.text)\n",
    "assert response.status_code == 200"
   ]
  },
  {
   "attachments": {},
   "cell_type": "markdown",
   "id": "f3957741",
   "metadata": {},
   "source": [
    "#### Get Citizen 2 Token"
   ]
  },
  {
   "cell_type": "code",
   "execution_count": 62,
   "id": "7e594972",
   "metadata": {},
   "outputs": [
    {
     "name": "stdout",
     "output_type": "stream",
     "text": [
      "200\n",
      "eyJhbGciOiJSUzI1NiIsInR5cCIgOiAiSldUIiwia2lkIiA6ICI4SWpGSkE2VjF3Sm5JbVRLajZuS1pMb093UzJVdmk4T3dsX0huNmFfdjhNIn0.eyJleHAiOjE2OTAyNDM1MjgsImlhdCI6MTY5MDI0MjkyOCwianRpIjoiY2ZlNjQ3NDQtOTM1OC00YjEzLWI2ZGYtNDVlYWE4ZDQxOGM0IiwiaXNzIjoiaHR0cDovL2RlbW8tYWRtaW4tcG9ydGFsLnN1bmJpcmRyYy5vY2kvYXV0aC9yZWFsbXMvc3VuYmlyZC1yYyIsImF1ZCI6ImFjY291bnQiLCJzdWIiOiI4NjdjZjI1Ny0wMjdiLTQ3NzAtOTgxOS1mNTk4MTk5YmI5ODUiLCJ0eXAiOiJCZWFyZXIiLCJhenAiOiJyZWdpc3RyeS1mcm9udGVuZCIsInNlc3Npb25fc3RhdGUiOiI5NGM2MDU1Ny1iM2Q1LTQyYWItOTk0MS1lZTQwNjJjOTBiMjYiLCJhY3IiOiIxIiwiYWxsb3dlZC1vcmlnaW5zIjpbImh0dHBzOi8vbG9jYWxob3N0OjQyMDIiLCJodHRwOi8vbG9jYWxob3N0OjQyMDIiLCJodHRwczovL2xvY2FsaG9zdDo0MjAwIiwiaHR0cHM6Ly9uZGVhci54aXYuaW4iLCJodHRwOi8vZGVtby1hZG1pbi1wb3J0YWwuc3VuYmlyZHJjLm9jaSIsImh0dHA6Ly9sb2NhbGhvc3Q6NDIwMCIsImh0dHA6Ly8yMC4xOTguNjQuMTI4Il0sInJlYWxtX2FjY2VzcyI6eyJyb2xlcyI6WyJvZmZsaW5lX2FjY2VzcyIsInVtYV9hdXRob3JpemF0aW9uIiwiZGVmYXVsdC1yb2xlcy1uZGVhciIsIkNpdGl6ZW5WMiJdfSwicmVzb3VyY2VfYWNjZXNzIjp7ImFjY291bnQiOnsicm9sZXMiOlsibWFuYWdlLWFjY291bnQiLCJtYW5hZ2UtYWNjb3VudC1saW5rcyIsInZpZXctcHJvZmlsZSJdfX0sInNjb3BlIjoicHJvZmlsZSBlbWFpbCIsImVtYWlsX3ZlcmlmaWVkIjpmYWxzZSwicHJlZmVycmVkX3VzZXJuYW1lIjoiaGJyb29rQGdtYWlsLmNvbSIsImVudGl0eSI6WyJDaXRpemVuVjIiXSwiZW1haWwiOiJoYnJvb2tAZ21haWwuY29tIn0.E_lQ3QxDAsXPK9SPEOnw6PxspJX3vPmjhIiI_Uz8eP3iLX6wXc2BwJZpw42q3dlPSP9DZNnKW9-Jzaq1_TDoND3D0OEmqutXY0x3492XZUjQnAleMmcfONBLIyxLBbm7jYKKxjusmV071kszfFm5MLa5q6nOt2LBRKhb8hnDTPr4Ymh2_Glof9jR5_jSq1lG7N4Q--CdTCXft-ccvazVFwzD4v083N62mL2Tw7Jc-Y2_aP7f1fu7xdqWsOucSUir6MQnKNM81uYNzT8Re_z53iWkUXm01kafwYlkosICaYnOlI2B7CQzM_nFKwXbF_dtvm3Fe0BFNw5o7qrgKhhaEQ\n"
     ]
    }
   ],
   "source": [
    "citizen2token = getToken(citizen2UserId)\n",
    "print(citizen2token)"
   ]
  },
  {
   "attachments": {},
   "cell_type": "markdown",
   "id": "14378a18",
   "metadata": {},
   "source": [
    "#### Get Citizen 2 Details"
   ]
  },
  {
   "cell_type": "code",
   "execution_count": 63,
   "id": "e5a6f6fb",
   "metadata": {},
   "outputs": [
    {
     "name": "stdout",
     "output_type": "stream",
     "text": [
      "[{\"osUpdatedAt\":\"2023-07-24T23:54:57.013Z\",\"gender\":\"Male\",\"osCreatedAt\":\"2023-07-24T23:54:57.013Z\",\"osUpdatedBy\":\"\",\"dob\":\"2001-10-10\",\"name\":\"Harry Brook\",\"osCreatedBy\":\"\",\"osid\":\"1-3724bcdb-4e42-45e6-a78e-cacdbe02a41e\",\"osOwner\":[\"867cf257-027b-4770-9819-f598199bb985\"],\"email\":\"hbrook@gmail.com\"}]\n",
      "1-3724bcdb-4e42-45e6-a78e-cacdbe02a41e\n",
      "Harry Brook\n",
      "hbrook@gmail.com\n"
     ]
    }
   ],
   "source": [
    "headers = {\n",
    "  'Content-Type': 'application/json',\n",
    "    'Authorization': 'bearer %s'%citizen2token\n",
    "}\n",
    "\n",
    "response = requests.request(\"GET\", apibaseUrl + \"CitizenV2\", headers=headers)\n",
    "\n",
    "print(response.text)\n",
    "citizen2Osid = response.json()[0][\"osid\"]\n",
    "citizen2Name = response.json()[0][\"name\"]\n",
    "citizen2Email = response.json()[0][\"email\"]\n",
    "print(citizen2Osid)\n",
    "print(citizen2Name)\n",
    "print(citizen2Email)\n",
    "assert response.status_code == 200"
   ]
  },
  {
   "attachments": {},
   "cell_type": "markdown",
   "id": "89ee0123",
   "metadata": {},
   "source": [
    "#### Official Transfers vehicle to citizen2"
   ]
  },
  {
   "cell_type": "code",
   "execution_count": 66,
   "id": "04f5ef4e",
   "metadata": {},
   "outputs": [
    {
     "name": "stdout",
     "output_type": "stream",
     "text": [
      "{\"id\":\"sunbird-rc.registry.update\",\"ver\":\"1.0\",\"ets\":1690243044553,\"params\":{\"resmsgid\":\"\",\"msgid\":\"d16fc06e-bfdd-46e3-93ba-3e4573b0bc40\",\"err\":\"\",\"status\":\"SUCCESSFUL\",\"errmsg\":\"\"},\"responseCode\":\"OK\"}\n"
     ]
    }
   ],
   "source": [
    "headers = {\n",
    "  'Content-Type': 'application/json',\n",
    "    'Authorization': 'bearer %s'%issuerToken\n",
    "}\n",
    "\n",
    "vehicleUpdateBody = {\n",
    "    \"owner\": [\n",
    "      {\n",
    "      \"citizenOSID\": citizen2Osid,\n",
    "      \"citizenName\": citizen2Name,\n",
    "      \"citizenEmail\": citizen2Email\n",
    "      }\n",
    "    ]\n",
    "}\n",
    "\n",
    "\n",
    "response = requests.request(\"PUT\", apibaseUrl + \"VehicleV2/\" + vehicleOsid, headers=headers, json=vehicleUpdateBody)\n",
    "\n",
    "print(response.text)\n",
    "assert response.status_code == 200"
   ]
  },
  {
   "attachments": {},
   "cell_type": "markdown",
   "id": "08bcfc73",
   "metadata": {},
   "source": [
    "#### Check the owner details is now citizen2"
   ]
  },
  {
   "cell_type": "code",
   "execution_count": 67,
   "id": "0ead703c",
   "metadata": {},
   "outputs": [
    {
     "name": "stdout",
     "output_type": "stream",
     "text": [
      "[{\"regnumber\":\"ECB73D2\",\"mnfyear\":\"2022\",\"vehicletype\":\"Car\",\"owner\":[{\"citizenName\":\"Harry Brook\",\"osUpdatedAt\":\"2023-07-24T23:57:24.577Z\",\"citizenOSID\":\"1-3724bcdb-4e42-45e6-a78e-cacdbe02a41e\",\"osCreatedAt\":\"2023-07-24T23:51:21.525Z\",\"osUpdatedBy\":\"f6f876de-75dc-4d0c-adba-8be0086e9400\",\"citizenEmail\":\"hbrook@gmail.com\",\"osCreatedBy\":\"\",\"osid\":\"1-1a0977ae-2e96-43ad-9735-19565a84870e\"}],\"osCreatedAt\":\"2023-07-24T23:51:21.525Z\",\"osUpdatedAt\":\"2023-07-24T23:57:24.577Z\",\"osCreatedBy\":\"\",\"osUpdatedBy\":\"f6f876de-75dc-4d0c-adba-8be0086e9400\",\"osid\":\"1-c3640a44-3f22-4f70-b2e9-c1523ee4476a\",\"@type\":\"VehicleV2\"}]\n",
      "1-c3640a44-3f22-4f70-b2e9-c1523ee4476a\n"
     ]
    }
   ],
   "source": [
    "headers = {\n",
    "  'Content-Type': 'application/json',\n",
    "    'Authorization': 'bearer %s'%issuerToken\n",
    "}\n",
    "vehicleSearchBody = {\n",
    "    \"filters\": {\n",
    "        \"regnumber\": {\n",
    "            \"contains\": vehicleRegNumber\n",
    "        }\n",
    "    },\n",
    "    \"limit\": 5,\n",
    "    \"offset\": 0\n",
    "}\n",
    "\n",
    "response = requests.request(\"POST\", apibaseUrl + \"VehicleV2/search\", headers=headers,json=vehicleSearchBody)\n",
    "\n",
    "print(response.text)\n",
    "vehicleOsid = response.json()[0][\"osid\"]\n",
    "print(vehicleOsid)\n",
    "assert response.status_code == 200"
   ]
  },
  {
   "attachments": {},
   "cell_type": "markdown",
   "id": "534c479f",
   "metadata": {},
   "source": [
    "#### Official Updates VC for citizen2"
   ]
  },
  {
   "cell_type": "code",
   "execution_count": 70,
   "id": "314cd71f",
   "metadata": {},
   "outputs": [
    {
     "name": "stdout",
     "output_type": "stream",
     "text": [
      "{\"id\":\"sunbird-rc.registry.update\",\"ver\":\"1.0\",\"ets\":1690243318338,\"params\":{\"resmsgid\":\"\",\"msgid\":\"9d20721d-09d5-456e-8bb8-697628a7fb6b\",\"err\":\"\",\"status\":\"SUCCESSFUL\",\"errmsg\":\"\"},\"responseCode\":\"OK\"}\n"
     ]
    }
   ],
   "source": [
    "headers = {\n",
    "  'Content-Type': 'application/json',\n",
    "    'Authorization': 'bearer %s'%issuerToken\n",
    "}\n",
    "\n",
    "VCUpdateBody = {\n",
    "    \"name\": \"Tom Latham\",\n",
    "    \"regnumber\": \"VIC73D1\",\n",
    "    \"dateofaward\": \"2023-04-20\",\n",
    "    \"nameofScheme\": \"Vehicle Registration\",\n",
    "    \"mnfyear\": \"2022\"\n",
    "}\n",
    "\n",
    "\n",
    "response = requests.request(\"PUT\", apibaseUrl + \"VehicleCertificate/\" + credentialOsid, headers=headers, json=VCUpdateBody)\n",
    "\n",
    "print(response.text)\n",
    "assert response.status_code == 200"
   ]
  },
  {
   "attachments": {},
   "cell_type": "markdown",
   "id": "af0c77b7",
   "metadata": {},
   "source": [
    "#### Official view the new VC"
   ]
  },
  {
   "cell_type": "code",
   "execution_count": 73,
   "id": "6c896300",
   "metadata": {},
   "outputs": [
    {
     "data": {
      "image/svg+xml": [
       "<svg xmlns=\"http://www.w3.org/2000/svg\" xmlns:xlink=\"http://www.w3.org/1999/xlink\" width=\"595\" height=\"842\" viewBox=\"0 0 595 842\" fill=\"none\">\n",
       "<rect width=\"595\" height=\"842\" fill=\"#F5F5F5\"/>\n",
       "<path d=\"M-2062 -2097C-2062 -2098.1 -2061.1 -2099 -2060 -2099H720C721.104 -2099 722 -2098.1 722 -2097V944C722 945.104 721.104 946 720 946H-2060C-2061.1 946 -2062 945.104 -2062 944V-2097Z\" fill=\"#E5E5E5\"/>\n",
       "<g clip-path=\"url(#clip0_0_1)\">\n",
       "<rect x=\"1.5\" y=\"1.5\" width=\"592\" height=\"839\" fill=\"white\" stroke=\"#8D9091\" stroke-width=\"3\"/>\n",
       "<text fill=\"black\" xml:space=\"preserve\" style=\"white-space: pre\" font-family=\"Lato\" font-size=\"24\" font-weight=\"bold\" letter-spacing=\"0px\"><tspan x=\"177.879\" y=\"194.288\">Vehicle Registration Certificate</tspan></text>\n",
       "<text fill=\"black\" xml:space=\"preserve\" style=\"white-space: pre\" font-family=\"Lato\" font-size=\"16\" letter-spacing=\"0px\"><tspan x=\"41\" y=\"331.192\">Vehicle Details</tspan></text>\n",
       "<text fill=\"black\" xml:space=\"preserve\" style=\"white-space: pre\" font-family=\"Lato\" font-size=\"16\" letter-spacing=\"0px\"><tspan x=\"41\" y=\"383.192\">Registration number: VIC73D1</tspan></text>\n",
       "<text fill=\"black\" xml:space=\"preserve\" style=\"white-space: pre\" font-family=\"Lato\" font-size=\"16\" letter-spacing=\"0px\"><tspan x=\"41\" y=\"403.192\">Manufacturing Year: 2022</tspan></text>\n",
       "\n",
       "<text fill=\"black\" xml:space=\"preserve\" style=\"white-space: pre\" font-family=\"Lato\" font-size=\"16\" letter-spacing=\"0px\"><tspan x=\"41\" y=\"423.192\">Vehicle Owner: Tom Latham</tspan></text>\n",
       "\n",
       "<text fill=\"#1D1D1D\" xml:space=\"preserve\" style=\"white-space: pre\" font-family=\"Lato\" font-size=\"14\" font-weight=\"bold\" letter-spacing=\"0px\"><tspan x=\"45\" y=\"538.418\">Vehicle Registration</tspan></text>\n",
       "<text fill=\"#1B2124\" xml:space=\"preserve\" style=\"white-space: pre\" font-family=\"Lato\" font-size=\"12\" letter-spacing=\"0px\"><tspan x=\"45\" y=\"589.644\">Date of Issue : 2023-04-20</tspan></text>\n",
       "<rect x=\"347\" y=\"585\" width=\"208\" height=\"208\" fill=\"url(#pattern0)\"/>\n",
       "<text fill=\"#1B2124\" xml:space=\"preserve\" style=\"white-space: pre\" font-family=\"Lato\" font-size=\"8\" letter-spacing=\"0px\"><tspan x=\"382.008\" y=\"814.096\">Scan the QR Code to verify the certificate at\n",
       "</tspan><tspan x=\"381.82\" y=\"824.096\">https://demo-education-registry.xiv.in/verify</tspan></text>\n",
       "<rect x=\"40\" y=\"40\" width=\"386\" height=\"71\" fill=\"url(#pattern1)\"/>\n",
       "</g>\n",
       "<path d=\"M-2060 -2098H720V-2100H-2060V-2098ZM721 -2097V944H723V-2097H721ZM720 945H-2060V947H720V945ZM-2061 944V-2097H-2063V944H-2061ZM-2060 945C-2060.55 945 -2061 944.552 -2061 944H-2063C-2063 945.657 -2061.66 947 -2060 947V945ZM721 944C721 944.552 720.552 945 720 945V947C721.657 947 723 945.657 723 944H721ZM720 -2098C720.552 -2098 721 -2097.55 721 -2097H723C723 -2098.66 721.657 -2100 720 -2100V-2098ZM-2060 -2100C-2061.66 -2100 -2063 -2098.66 -2063 -2097H-2061C-2061 -2097.55 -2060.55 -2098 -2060 -2098V-2100Z\" fill=\"black\" fill-opacity=\"0.1\"/>\n",
       "<defs>\n",
       "<pattern id=\"pattern0\" patternContentUnits=\"objectBoundingBox\" width=\"1\" height=\"1\">\n",
       "<use xlink:href=\"#image0_0_1\" transform=\"scale(0.00123457)\"/>\n",
       "</pattern>\n",
       "<pattern id=\"pattern1\" patternContentUnits=\"objectBoundingBox\" width=\"1\" height=\"1\">\n",
       "<use xlink:href=\"#image1_0_1\" transform=\"matrix(0.00143701 0 0 0.0078125 -0.0471078 0)\"/>\n",
       "</pattern>\n",
       "<clipPath id=\"clip0_0_1\">\n",
       "<rect width=\"595\" height=\"842\" fill=\"white\"/>\n",
       "</clipPath>\n",
       "<image id=\"image0_0_1\" width=\"810\" height=\"810\" xlink:href=\"data:image/png;base64,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\"/>\n",
       "<image id=\"image1_0_1\" width=\"729\" height=\"128\" xlink:href=\"data:image/png;base64,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\"/>\n",
       "</defs>\n",
       "</svg>"
      ],
      "text/plain": [
       "<IPython.core.display.SVG object>"
      ]
     },
     "metadata": {},
     "output_type": "display_data"
    }
   ],
   "source": [
    "schemaName = \"VehicleCertificate\"\n",
    "headers = {\n",
    "    'Accept': 'image/svg+xml',\n",
    "    'Authorization': 'Bearer %s'%issuerToken,\n",
    "    \"template-key\": \"html\"\n",
    "}\n",
    "response = requests.get('%s/api/v1/%s/%s'%(baseUrl, schemaName, credentialOsid), headers=headers)\n",
    "display(SVG(response.content))"
   ]
  },
  {
   "attachments": {},
   "cell_type": "markdown",
   "id": "67be735c",
   "metadata": {},
   "source": [
    "### Optional attestation workflow"
   ]
  },
  {
   "attachments": {},
   "cell_type": "markdown",
   "id": "faa90918",
   "metadata": {},
   "source": [
    "##### Citizen 1 adds license details"
   ]
  },
  {
   "cell_type": "code",
   "execution_count": 77,
   "id": "d3d6e2c5",
   "metadata": {},
   "outputs": [
    {
     "name": "stdout",
     "output_type": "stream",
     "text": [
      "<Response [200]>\n",
      "{'id': 'sunbird-rc.registry.update', 'ver': '1.0', 'ets': 1690243997703, 'params': {'resmsgid': '', 'msgid': '608a101a-54b0-445a-93cf-de2a8876385b', 'err': '', 'status': 'SUCCESSFUL', 'errmsg': ''}, 'responseCode': 'OK'}\n",
      "1-f9f598b6-1dbe-4177-aae6-9b72f74e70bc\n"
     ]
    }
   ],
   "source": [
    "\n",
    "headers = {\n",
    "    'content-type': 'application/json',\n",
    "    'authorization': 'bearer %s'%citizen1token,\n",
    "}\n",
    "\n",
    "data = \"\"\"{\n",
    "\"drivinglicense\": [\n",
    "  {\n",
    "    \"vehicletype\": \"Car\",\n",
    "    \"licnumber\": \"abcde1234\",\n",
    "    \"issueddate\":  \"2000-10-10\",\n",
    "    \"validupto\": \"2010-10-10\",\n",
    "    \"state\": \"Karnataka\"\n",
    "  }\n",
    "]\n",
    "}\"\"\"\n",
    "# print(data)\n",
    "response = requests.put('%sCitizenV2/%s'%(apibaseUrl, citizen1Osid), headers=headers, data=data)\n",
    "print(response)\n",
    "print(response.json())\n",
    "assert response.status_code == 200\n",
    "\n",
    "\n",
    "headers = {\n",
    "  'Content-Type': 'application/json',\n",
    "    'Authorization': 'bearer %s'%citizen1token,\n",
    "}\n",
    "\n",
    "response = requests.request(\"GET\", apibaseUrl + \"CitizenV2\", headers=headers)\n",
    "\n",
    "# print(response.text)\n",
    "drivinglicenseOsid = response.json()[0][\"drivinglicense\"][0][\"osid\"]\n",
    "print(drivinglicenseOsid)\n",
    "assert response.status_code == 200\n"
   ]
  },
  {
   "attachments": {},
   "cell_type": "markdown",
   "id": "7027c000",
   "metadata": {},
   "source": [
    "#### Get Citizen1 details after adding license"
   ]
  },
  {
   "cell_type": "code",
   "execution_count": 80,
   "id": "82524cb6",
   "metadata": {},
   "outputs": [
    {
     "name": "stdout",
     "output_type": "stream",
     "text": [
      "[\n",
      "    {\n",
      "        \"osUpdatedAt\": \"2023-07-25T00:13:17.947Z\",\n",
      "        \"gender\": \"Male\",\n",
      "        \"osCreatedAt\": \"2023-07-24T23:49:15.721Z\",\n",
      "        \"osUpdatedBy\": \"7ad0faf8-0297-4410-a5e7-73bc506ecaf7\",\n",
      "        \"dob\": \"2000-10-10\",\n",
      "        \"drivinglicense\": [\n",
      "            {\n",
      "                \"vehicletype\": \"Car\",\n",
      "                \"validupto\": \"2010-10-10\",\n",
      "                \"osUpdatedAt\": \"2023-07-25T00:13:17.947Z\",\n",
      "                \"licnumber\": \"abcde1234\",\n",
      "                \"osUpdatedBy\": \"7ad0faf8-0297-4410-a5e7-73bc506ecaf7\",\n",
      "                \"osid\": \"1-f9f598b6-1dbe-4177-aae6-9b72f74e70bc\",\n",
      "                \"state\": \"Karnataka\",\n",
      "                \"issueddate\": \"2000-10-10\"\n",
      "            }\n",
      "        ],\n",
      "        \"osCreatedBy\": \"\",\n",
      "        \"name\": \"Zak Crawley\",\n",
      "        \"osid\": \"1-b0febf21-a937-4086-b7a6-810ed88fa598\",\n",
      "        \"osOwner\": [\n",
      "            \"7ad0faf8-0297-4410-a5e7-73bc506ecaf7\"\n",
      "        ],\n",
      "        \"email\": \"zcrawley@gmail.com\"\n",
      "    }\n",
      "]\n"
     ]
    }
   ],
   "source": [
    "headers = {\n",
    "  'Content-Type': 'application/json',\n",
    "    'Authorization': 'bearer %s'%citizen1token\n",
    "}\n",
    "\n",
    "response = requests.request(\"GET\", apibaseUrl + \"CitizenV2\", headers=headers)\n",
    "print(json.dumps(response.json(), indent=4))\n",
    "assert response.status_code == 200"
   ]
  },
  {
   "attachments": {},
   "cell_type": "markdown",
   "id": "67423f5d",
   "metadata": {},
   "source": [
    "#### Citizen 1 Sends License attestation request"
   ]
  },
  {
   "cell_type": "code",
   "execution_count": 81,
   "id": "4669ceca",
   "metadata": {},
   "outputs": [
    {
     "name": "stdout",
     "output_type": "stream",
     "text": [
      "200\n",
      "{\n",
      "    \"id\": \"sunbird-rc.registry.send\",\n",
      "    \"ver\": \"1.0\",\n",
      "    \"ets\": 1690244187896,\n",
      "    \"params\": {\n",
      "        \"resmsgid\": \"\",\n",
      "        \"msgid\": \"27d7e245-4d41-448a-b366-4dc38656f50e\",\n",
      "        \"err\": \"\",\n",
      "        \"status\": \"SUCCESSFUL\",\n",
      "        \"errmsg\": \"\"\n",
      "    },\n",
      "    \"responseCode\": \"OK\",\n",
      "    \"result\": {\n",
      "        \"attestationOSID\": \"1-ffa82229-837b-4bb8-9dd5-50734972686d\"\n",
      "    }\n",
      "}\n"
     ]
    }
   ],
   "source": [
    "# raise attestation request\n",
    "headers = {\n",
    "    'content-type': 'application/json',\n",
    "    'authorization': 'bearer %s'%citizen1token,\n",
    "}\n",
    "\n",
    "params = (\n",
    "    ('send', 'true'),\n",
    ")\n",
    "\n",
    "data = {\n",
    "    \"entityName\":\"CitizenV2\",\n",
    "    \"entityId\":\"%s\"%citizen1Osid,\n",
    "    \"name\":\"CitizenAffiliation\",\n",
    "    \"propertiesOSID\": {\n",
    "        \"drivinglicense\": [drivinglicenseOsid]\n",
    "    }\n",
    "}\n",
    "response = requests.put(apibaseUrl+'send', headers=headers, params=params, json=data)\n",
    "print(response.status_code)\n",
    "assert response.status_code == 200\n",
    "print(json.dumps(response.json(), indent=4))\n",
    "citizen1attestationosid=response.json()[\"result\"][\"attestationOSID\"]\n",
    "assert response.json()[\"params\"][\"status\"] == \"SUCCESSFUL\""
   ]
  },
  {
   "attachments": {},
   "cell_type": "markdown",
   "id": "11cc2d02",
   "metadata": {},
   "source": [
    "#### Official gets all claims"
   ]
  },
  {
   "cell_type": "code",
   "execution_count": 83,
   "id": "37b84426",
   "metadata": {},
   "outputs": [
    {
     "name": "stdout",
     "output_type": "stream",
     "text": [
      "200\n"
     ]
    },
    {
     "name": "stdout",
     "output_type": "stream",
     "text": [
      "{\n",
      "    \"totalPages\": 1,\n",
      "    \"content\": [\n",
      "        {\n",
      "            \"id\": \"94dffbb7-7680-4aca-b010-adce157f86f3\",\n",
      "            \"entity\": \"CitizenV2\",\n",
      "            \"entityId\": \"1-b0febf21-a937-4086-b7a6-810ed88fa598\",\n",
      "            \"propertyURI\": \"\",\n",
      "            \"createdAt\": \"2023-07-25T00:16:28.450+00:00\",\n",
      "            \"updatedAt\": \"2023-07-25T00:16:28.450+00:00\",\n",
      "            \"attestedOn\": null,\n",
      "            \"status\": \"OPEN\",\n",
      "            \"conditions\": \"(ATTESTOR#$.[*]#.contains('RTO Karnataka'))\",\n",
      "            \"attestorEntity\": \"Official\",\n",
      "            \"requestorName\": \"zcrawley@gmail.com\",\n",
      "            \"propertyData\": \"{\\\"drivinglicense\\\":[{\\\"vehicletype\\\":\\\"Car\\\",\\\"validupto\\\":\\\"2010-10-10\\\",\\\"osUpdatedAt\\\":\\\"2023-07-25T00:13:17.947Z\\\",\\\"licnumber\\\":\\\"abcde1234\\\",\\\"osUpdatedBy\\\":\\\"7ad0faf8-0297-4410-a5e7-73bc506ecaf7\\\",\\\"osid\\\":\\\"1-f9f598b6-1dbe-4177-aae6-9b72f74e70bc\\\",\\\"state\\\":\\\"Karnataka\\\",\\\"issueddate\\\":\\\"2000-10-10\\\"}],\\\"name\\\":\\\"Zak Crawley\\\"}\",\n",
      "            \"attestationId\": \"1-ffa82229-837b-4bb8-9dd5-50734972686d\",\n",
      "            \"attestationName\": \"CitizenAffiliation\",\n",
      "            \"attestorUserId\": null,\n",
      "            \"closed\": false\n",
      "        }\n",
      "    ],\n",
      "    \"totalElements\": 1\n",
      "}\n"
     ]
    }
   ],
   "source": [
    "# get claims for official\n",
    "\n",
    "officialUserId = \"rto_official_1\"\n",
    "officialToken = getToken(officialUserId)\n",
    "headers = {\n",
    "  'Content-Type': 'application/json',\n",
    "    'Authorization': 'bearer %s'%officialToken,\n",
    "}\n",
    "\n",
    "response = requests.request(\"GET\", apibaseUrl + \"Official/claims\", headers=headers)\n",
    "assert response.status_code == 200\n",
    "\n",
    "print(json.dumps(response.json(), indent=4))\n"
   ]
  },
  {
   "attachments": {},
   "cell_type": "markdown",
   "id": "a7a1fe24",
   "metadata": {},
   "source": [
    "#### Official Grants Citizen1 Claim"
   ]
  },
  {
   "cell_type": "code",
   "execution_count": 84,
   "id": "8cddf9bf",
   "metadata": {},
   "outputs": [
    {
     "name": "stdout",
     "output_type": "stream",
     "text": [
      "94dffbb7-7680-4aca-b010-adce157f86f3\n",
      "<Response [200]>\n",
      "{'resmsgid': '', 'msgid': 'b12a855e-0d68-40a4-9bc1-6b998221abb3', 'err': '', 'status': 'SUCCESSFUL', 'errmsg': ''}\n"
     ]
    }
   ],
   "source": [
    "\n",
    "# Attesting the claim as GRANT\n",
    "data = {\n",
    "    \"action\":\"GRANT_CLAIM\",\n",
    "}\n",
    "attestingClaimId = None\n",
    "for claim in response.json()[\"content\"]:\n",
    "    if claim[\"status\"] == \"OPEN\" and claim[\"attestationId\"] == citizen1attestationosid:\n",
    "        attestingClaimId = claim[\"id\"]\n",
    "        print(claim[\"id\"])\n",
    "        attestResp = requests.request(\"POST\", \"%sOfficial/claims/%s/attest\" %(apibaseUrl, claim[\"id\"]), headers=headers, json=data)\n",
    "        assert response.status_code == 200\n",
    "        print(attestResp)\n",
    "        print(attestResp.json())\n",
    "        break\n",
    "assert attestingClaimId != None\n",
    "\n"
   ]
  },
  {
   "attachments": {},
   "cell_type": "markdown",
   "id": "095bfb1a",
   "metadata": {},
   "source": [
    "#### Citizen 1 get attestation status"
   ]
  },
  {
   "cell_type": "code",
   "execution_count": 87,
   "id": "609919ad",
   "metadata": {},
   "outputs": [
    {
     "name": "stdout",
     "output_type": "stream",
     "text": [
      "[\n",
      "    {\n",
      "        \"osUpdatedAt\": \"2023-07-25T00:19:31.830Z\",\n",
      "        \"gender\": \"Male\",\n",
      "        \"osUpdatedBy\": \"\",\n",
      "        \"drivinglicense\": [\n",
      "            {\n",
      "                \"vehicletype\": \"Car\",\n",
      "                \"validupto\": \"2010-10-10\",\n",
      "                \"osUpdatedAt\": \"2023-07-25T00:19:31.830Z\",\n",
      "                \"licnumber\": \"abcde1234\",\n",
      "                \"osUpdatedBy\": \"\",\n",
      "                \"osid\": \"1-f9f598b6-1dbe-4177-aae6-9b72f74e70bc\",\n",
      "                \"state\": \"Karnataka\",\n",
      "                \"issueddate\": \"2000-10-10\"\n",
      "            }\n",
      "        ],\n",
      "        \"osid\": \"1-b0febf21-a937-4086-b7a6-810ed88fa598\",\n",
      "        \"osOwner\": [\n",
      "            \"7ad0faf8-0297-4410-a5e7-73bc506ecaf7\"\n",
      "        ],\n",
      "        \"osCreatedAt\": \"2023-07-24T23:49:15.721Z\",\n",
      "        \"CitizenAffiliation\": [\n",
      "            {\n",
      "                \"osUpdatedAt\": \"2023-07-25T00:19:31.830Z\",\n",
      "                \"osUpdatedBy\": \"\",\n",
      "                \"_osState\": \"PUBLISHED\",\n",
      "                \"entityId\": \"1-b0febf21-a937-4086-b7a6-810ed88fa598\",\n",
      "                \"emailId\": \"zcrawley@gmail.com\",\n",
      "                \"osid\": \"1-ffa82229-837b-4bb8-9dd5-50734972686d\",\n",
      "                \"userId\": \"7ad0faf8-0297-4410-a5e7-73bc506ecaf7\",\n",
      "                \"propertiesOSID\": {\n",
      "                    \"osid\": \"1-d6d2c83e-2826-462e-a429-1654f38d506b\",\n",
      "                    \"osUpdatedAt\": \"2023-07-25T00:16:27.939Z\",\n",
      "                    \"osUpdatedBy\": \"7ad0faf8-0297-4410-a5e7-73bc506ecaf7\",\n",
      "                    \"drivinglicense\": [\n",
      "                        \"1-f9f598b6-1dbe-4177-aae6-9b72f74e70bc\"\n",
      "                    ]\n",
      "                },\n",
      "                \"propertyData\": \"{\\\"drivinglicense\\\":[{\\\"vehicletype\\\":\\\"Car\\\",\\\"validupto\\\":\\\"2010-10-10\\\",\\\"osUpdatedAt\\\":\\\"2023-07-25T00:13:17.947Z\\\",\\\"licnumber\\\":\\\"abcde1234\\\",\\\"osUpdatedBy\\\":\\\"7ad0faf8-0297-4410-a5e7-73bc506ecaf7\\\",\\\"osid\\\":\\\"1-f9f598b6-1dbe-4177-aae6-9b72f74e70bc\\\",\\\"state\\\":\\\"Karnataka\\\",\\\"issueddate\\\":\\\"2000-10-10\\\"}],\\\"name\\\":\\\"Zak Crawley\\\"}\",\n",
      "                \"entityName\": \"CitizenV2\",\n",
      "                \"name\": \"CitizenAffiliation\",\n",
      "                \"_osAttestedData\": \"{\\\"drivinglicense\\\":[{\\\"vehicletype\\\":\\\"Car\\\",\\\"validupto\\\":\\\"2010-10-10\\\",\\\"osUpdatedAt\\\":\\\"2023-07-25T00:13:17.947Z\\\",\\\"licnumber\\\":\\\"abcde1234\\\",\\\"osUpdatedBy\\\":\\\"7ad0faf8-0297-4410-a5e7-73bc506ecaf7\\\",\\\"osid\\\":\\\"1-f9f598b6-1dbe-4177-aae6-9b72f74e70bc\\\",\\\"state\\\":\\\"Karnataka\\\",\\\"issueddate\\\":\\\"2000-10-10\\\"}],\\\"name\\\":\\\"Zak Crawley\\\"}\",\n",
      "                \"_osClaimId\": \"94dffbb7-7680-4aca-b010-adce157f86f3\"\n",
      "            }\n",
      "        ],\n",
      "        \"dob\": \"2000-10-10\",\n",
      "        \"name\": \"Zak Crawley\",\n",
      "        \"osCreatedBy\": \"\",\n",
      "        \"email\": \"zcrawley@gmail.com\"\n",
      "    }\n",
      "]\n"
     ]
    }
   ],
   "source": [
    "import time\n",
    "time.sleep(5)\n",
    "# verify attestation status\n",
    "headers = {\n",
    "  'Content-Type': 'application/json',\n",
    "    'Authorization': 'bearer %s'%citizen1token,\n",
    "}\n",
    "\n",
    "response = requests.request(\"GET\", apibaseUrl + \"CitizenV2\", headers=headers)\n",
    "\n",
    "print(json.dumps(response.json(), indent=4))\n",
    "for affiliation in response.json()[0][\"CitizenAffiliation\"]:\n",
    "        if affiliation[\"_osClaimId\"] == attestingClaimId:\n",
    "            assert affiliation[\"_osState\"] == \"PUBLISHED\""
   ]
  }
 ],
 "metadata": {
  "kernelspec": {
   "display_name": "Python 3 (ipykernel)",
   "language": "python",
   "name": "python3"
  },
  "language_info": {
   "codemirror_mode": {
    "name": "ipython",
    "version": 3
   },
   "file_extension": ".py",
   "mimetype": "text/x-python",
   "name": "python",
   "nbconvert_exporter": "python",
   "pygments_lexer": "ipython3",
   "version": "3.10.6"
  }
 },
 "nbformat": 4,
 "nbformat_minor": 5
}
